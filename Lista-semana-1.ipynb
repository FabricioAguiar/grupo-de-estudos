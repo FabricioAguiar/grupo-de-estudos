{
 "cells": [
  {
   "cell_type": "markdown",
   "id": "55b63cc6",
   "metadata": {},
   "source": [
    "# Lista de Exercício 1"
   ]
  },
  {
   "cell_type": "markdown",
   "id": "ff11ecb4",
   "metadata": {},
   "source": [
    "## PARTE 1: Sobre a profissão e o universo de dados"
   ]
  },
  {
   "cell_type": "markdown",
   "id": "9fa7c633",
   "metadata": {},
   "source": [
    "1. Descreva com suas palavras qual a diferença entre a profissão de cientista, analista e engenheiro de dados? Que tipo de tarefa você imagina que cada um desses faça?"
   ]
  },
  {
   "cell_type": "markdown",
   "id": "2a3c1bd2",
   "metadata": {},
   "source": [
    "As funções de cientista, engenheiro e analista de dados apresentam grande relações e  podem até ser acumuladas, dependendo do tamanho da empresa, mas de forma objetiva, o engenheiro de dados é o responsável pelo preparo, coleta e armazenamento dos dados de forma padronizada para que sejam usados pelas equipes da empresa; O analista de dados por sua vez é o responsável pela análise de desempenho das kpi's e principais métricas do negócio, assim como são responsáveis por responder perguntas de negócios (avaliação de desempenho de campanhas, ajudar no desenvolvimento de métricas da empresa), os cientistas de dados trabalham com dados de forma a gerar novos insights visando principalmente agregar valor e otimizar a atuação da empresa."
   ]
  },
  {
   "cell_type": "markdown",
   "id": "4729b715",
   "metadata": {},
   "source": [
    "2. Por que um cientista de dados é, apesar de tudo, uma pessoa de negócios ?"
   ]
  },
  {
   "cell_type": "markdown",
   "id": "9f35cbad",
   "metadata": {},
   "source": [
    "O cientista de dados precisa compreender o negócio, sua atuação, seu pontos fortes e fracos, tendo em vista que sua função é buscar através de dados gerar novos insights que possam agregar valor ao negócio, sendo ponto principal disto o entendimento de funcionamento do negócio"
   ]
  },
  {
   "cell_type": "markdown",
   "id": "7f6d755a",
   "metadata": {},
   "source": [
    "3. O que é Machine Learning? Que tipo de trabalho de Machine Learning poderia ser feito na área em que você atua? Mencione alguns estudos/modelos que te auxiliariam no dia a dia."
   ]
  },
  {
   "cell_type": "markdown",
   "id": "e1fa6d3d",
   "metadata": {},
   "source": [
    "Machine Learning, também chamado de aprendizado de máquina é uma tecnologia que utiliza modelos para que máquinas sejam capazes de analisar dados e apresentar respostas coerentes; Dentro do planejamento urbano, sáo de extremo auxilio e otimização de processos as técnicas de cluster de regiões e/ou populações que facilitam a identificação de aspectos em comum entre os mesmos, tornando mais efetivas as aplicações de políticas públicas."
   ]
  },
  {
   "cell_type": "markdown",
   "id": "ae6f2620",
   "metadata": {},
   "source": [
    "4. Qual a utilidade da estatística para alguém que trabalha com data science?"
   ]
  },
  {
   "cell_type": "markdown",
   "id": "7392fa0c",
   "metadata": {},
   "source": [
    "A estatística, assim com a matemática são a base da ciência de dados, tendo em vista que são os métodos presentes e de origem destas matérias que permitem as aplicações na área dos dados e subsidiam as decisões tomadas."
   ]
  },
  {
   "cell_type": "markdown",
   "id": "5aa44081",
   "metadata": {},
   "source": [
    "## PARTE 2: Conhecendo o Python e o Jupyter Notebook"
   ]
  },
  {
   "cell_type": "markdown",
   "id": "77ceb306",
   "metadata": {},
   "source": [
    "5.Demonstre como realizar no Python as seguintes operações:  subtração, multiplicação, divisão, exponenciação e raiz quadrada."
   ]
  },
  {
   "cell_type": "markdown",
   "id": "69685beb",
   "metadata": {},
   "source": [
    "### soma"
   ]
  },
  {
   "cell_type": "code",
   "execution_count": 10,
   "id": "fd84d71b",
   "metadata": {},
   "outputs": [
    {
     "data": {
      "text/plain": [
       "20"
      ]
     },
     "execution_count": 10,
     "metadata": {},
     "output_type": "execute_result"
    }
   ],
   "source": [
    "\n",
    "10+10"
   ]
  },
  {
   "cell_type": "markdown",
   "id": "6458552a",
   "metadata": {},
   "source": [
    "### subtração"
   ]
  },
  {
   "cell_type": "code",
   "execution_count": 11,
   "id": "c216e394",
   "metadata": {},
   "outputs": [
    {
     "data": {
      "text/plain": [
       "8"
      ]
     },
     "execution_count": 11,
     "metadata": {},
     "output_type": "execute_result"
    }
   ],
   "source": [
    "12-4"
   ]
  },
  {
   "cell_type": "markdown",
   "id": "5bd8f9e1",
   "metadata": {},
   "source": [
    "### multiplicação"
   ]
  },
  {
   "cell_type": "code",
   "execution_count": 12,
   "id": "c0cfddd6",
   "metadata": {},
   "outputs": [
    {
     "data": {
      "text/plain": [
       "15"
      ]
     },
     "execution_count": 12,
     "metadata": {},
     "output_type": "execute_result"
    }
   ],
   "source": [
    "5*3"
   ]
  },
  {
   "cell_type": "markdown",
   "id": "61424e3e",
   "metadata": {},
   "source": [
    "### exponenciação"
   ]
  },
  {
   "cell_type": "code",
   "execution_count": 13,
   "id": "9587ffea",
   "metadata": {},
   "outputs": [
    {
     "data": {
      "text/plain": [
       "3"
      ]
     },
     "execution_count": 13,
     "metadata": {},
     "output_type": "execute_result"
    }
   ],
   "source": [
    "2^1"
   ]
  },
  {
   "cell_type": "markdown",
   "id": "8b9efe3f",
   "metadata": {},
   "source": [
    "### raiz quadrada"
   ]
  },
  {
   "cell_type": "code",
   "execution_count": 14,
   "id": "00831eff",
   "metadata": {},
   "outputs": [
    {
     "data": {
      "text/plain": [
       "9.0"
      ]
     },
     "execution_count": 14,
     "metadata": {},
     "output_type": "execute_result"
    }
   ],
   "source": [
    "pow(81, 0.5)"
   ]
  },
  {
   "cell_type": "code",
   "execution_count": 15,
   "id": "ab0129a0",
   "metadata": {},
   "outputs": [
    {
     "data": {
      "text/plain": [
       "(9+0j)"
      ]
     },
     "execution_count": 15,
     "metadata": {},
     "output_type": "execute_result"
    }
   ],
   "source": [
    "import cmath\n",
    "cmath.sqrt(81)"
   ]
  },
  {
   "cell_type": "code",
   "execution_count": 16,
   "id": "2deb3c5e",
   "metadata": {},
   "outputs": [
    {
     "data": {
      "text/plain": [
       "9.0"
      ]
     },
     "execution_count": 16,
     "metadata": {},
     "output_type": "execute_result"
    }
   ],
   "source": [
    "import numpy as np\n",
    "np.sqrt(81)"
   ]
  },
  {
   "cell_type": "markdown",
   "id": "c2355fc5",
   "metadata": {},
   "source": [
    "6. Qual operador utilizamos para obter o resto de uma divisão no Python?"
   ]
  },
  {
   "cell_type": "code",
   "execution_count": 17,
   "id": "f738dc3b",
   "metadata": {},
   "outputs": [
    {
     "data": {
      "text/plain": [
       "1"
      ]
     },
     "execution_count": 17,
     "metadata": {},
     "output_type": "execute_result"
    }
   ],
   "source": [
    "9%2"
   ]
  },
  {
   "cell_type": "markdown",
   "id": "a73a3be8",
   "metadata": {},
   "source": [
    "7. Como verificar qual o tipo de algum objeto no Python?"
   ]
  },
  {
   "cell_type": "code",
   "execution_count": 18,
   "id": "75972317",
   "metadata": {},
   "outputs": [],
   "source": [
    "a=4"
   ]
  },
  {
   "cell_type": "code",
   "execution_count": 19,
   "id": "3ef59444",
   "metadata": {},
   "outputs": [
    {
     "data": {
      "text/plain": [
       "int"
      ]
     },
     "execution_count": 19,
     "metadata": {},
     "output_type": "execute_result"
    }
   ],
   "source": [
    "type(a)"
   ]
  },
  {
   "cell_type": "code",
   "execution_count": 20,
   "id": "e4dad28d",
   "metadata": {},
   "outputs": [],
   "source": [
    "x=2"
   ]
  },
  {
   "cell_type": "code",
   "execution_count": 21,
   "id": "970d4d89",
   "metadata": {},
   "outputs": [],
   "source": [
    "y=2.0"
   ]
  },
  {
   "cell_type": "markdown",
   "id": "7888b9c6",
   "metadata": {},
   "source": [
    "z='2.0'"
   ]
  },
  {
   "cell_type": "markdown",
   "id": "73c46f48",
   "metadata": {},
   "source": [
    "8. Qual a diferença entre o objeto x = 2, y = 2.0 e z = '2.0'?"
   ]
  },
  {
   "cell_type": "markdown",
   "id": "bad63652",
   "metadata": {},
   "source": [
    "a diferença entre o objetos informados é referente ao seu tipo de classificação, enquanto X é apresentado como um numenro inteiro, y é um float, ou seja, aceita casas decimais e z é um string, ou seja é apresentado como um texto."
   ]
  },
  {
   "cell_type": "code",
   "execution_count": 22,
   "id": "c195357b",
   "metadata": {},
   "outputs": [
    {
     "name": "stdout",
     "output_type": "stream",
     "text": [
      "<class 'int'>\n",
      "<class 'float'>\n"
     ]
    },
    {
     "ename": "NameError",
     "evalue": "name 'z' is not defined",
     "output_type": "error",
     "traceback": [
      "\u001b[1;31m---------------------------------------------------------------------------\u001b[0m",
      "\u001b[1;31mNameError\u001b[0m                                 Traceback (most recent call last)",
      "\u001b[1;32m~\\AppData\\Local\\Temp/ipykernel_21612/1828834982.py\u001b[0m in \u001b[0;36m<module>\u001b[1;34m\u001b[0m\n\u001b[0;32m      1\u001b[0m \u001b[0mprint\u001b[0m\u001b[1;33m(\u001b[0m\u001b[0mtype\u001b[0m\u001b[1;33m(\u001b[0m\u001b[0mx\u001b[0m\u001b[1;33m)\u001b[0m\u001b[1;33m)\u001b[0m\u001b[1;33m\u001b[0m\u001b[1;33m\u001b[0m\u001b[0m\n\u001b[0;32m      2\u001b[0m \u001b[0mprint\u001b[0m\u001b[1;33m(\u001b[0m\u001b[0mtype\u001b[0m\u001b[1;33m(\u001b[0m\u001b[0my\u001b[0m\u001b[1;33m)\u001b[0m\u001b[1;33m)\u001b[0m\u001b[1;33m\u001b[0m\u001b[1;33m\u001b[0m\u001b[0m\n\u001b[1;32m----> 3\u001b[1;33m \u001b[0mprint\u001b[0m\u001b[1;33m(\u001b[0m\u001b[0mtype\u001b[0m\u001b[1;33m(\u001b[0m\u001b[0mz\u001b[0m\u001b[1;33m)\u001b[0m\u001b[1;33m)\u001b[0m\u001b[1;33m\u001b[0m\u001b[1;33m\u001b[0m\u001b[0m\n\u001b[0m",
      "\u001b[1;31mNameError\u001b[0m: name 'z' is not defined"
     ]
    }
   ],
   "source": [
    "print(type(x))\n",
    "print(type(y))\n",
    "print(type(z))\n"
   ]
  },
  {
   "cell_type": "markdown",
   "id": "bb718d21",
   "metadata": {},
   "source": [
    "9.O que acontece se escrevermos 2++2 ao invés de 2+2? E se fizermos 2 - - 2? E 2==2 ou 2 2? Verifique o output de cada situação."
   ]
  },
  {
   "cell_type": "markdown",
   "id": "804b36e7",
   "metadata": {},
   "source": [
    "ao se apresentado dois sinais de soma ou de subtração na operação, o pyton faz a multiplicação de sinais, que não tem interferencia para dois sinais positivos, mas que pode ser notado quando se tem dois sinas de subtração ou sinais alternados.Para duplo sinal de igualdade, o phyton analisa se a afirmativa apresentada é verdadeira, Caso não seja incluido sinal que indetifique a operação o python retorna em erro."
   ]
  },
  {
   "cell_type": "code",
   "execution_count": 23,
   "id": "ab707530",
   "metadata": {},
   "outputs": [
    {
     "data": {
      "text/plain": [
       "4"
      ]
     },
     "execution_count": 23,
     "metadata": {},
     "output_type": "execute_result"
    }
   ],
   "source": [
    "2+2"
   ]
  },
  {
   "cell_type": "code",
   "execution_count": 24,
   "id": "4edcffec",
   "metadata": {},
   "outputs": [
    {
     "data": {
      "text/plain": [
       "4"
      ]
     },
     "execution_count": 24,
     "metadata": {},
     "output_type": "execute_result"
    }
   ],
   "source": [
    "2++2"
   ]
  },
  {
   "cell_type": "code",
   "execution_count": 25,
   "id": "c9e4fe07",
   "metadata": {},
   "outputs": [
    {
     "data": {
      "text/plain": [
       "4"
      ]
     },
     "execution_count": 25,
     "metadata": {},
     "output_type": "execute_result"
    }
   ],
   "source": [
    "2--2"
   ]
  },
  {
   "cell_type": "code",
   "execution_count": 26,
   "id": "4d3229b8",
   "metadata": {},
   "outputs": [
    {
     "data": {
      "text/plain": [
       "True"
      ]
     },
     "execution_count": 26,
     "metadata": {},
     "output_type": "execute_result"
    }
   ],
   "source": [
    "2==2"
   ]
  },
  {
   "cell_type": "code",
   "execution_count": 27,
   "id": "78352851",
   "metadata": {},
   "outputs": [
    {
     "ename": "SyntaxError",
     "evalue": "invalid syntax (Temp/ipykernel_21612/2936213556.py, line 1)",
     "output_type": "error",
     "traceback": [
      "\u001b[1;36m  File \u001b[1;32m\"C:\\Users\\faabr\\AppData\\Local\\Temp/ipykernel_21612/2936213556.py\"\u001b[1;36m, line \u001b[1;32m1\u001b[0m\n\u001b[1;33m    2 2\u001b[0m\n\u001b[1;37m      ^\u001b[0m\n\u001b[1;31mSyntaxError\u001b[0m\u001b[1;31m:\u001b[0m invalid syntax\n"
     ]
    }
   ],
   "source": [
    "2 2"
   ]
  },
  {
   "cell_type": "markdown",
   "id": "fb497fe6",
   "metadata": {},
   "source": [
    "10. É possível escrever 02 ao invés de apenas 2 no Python?"
   ]
  },
  {
   "cell_type": "markdown",
   "id": "6a0be409",
   "metadata": {},
   "source": [
    "Sim, é possível, sendo as duas formas abaixo as mais frequente encontradas."
   ]
  },
  {
   "cell_type": "code",
   "execution_count": 28,
   "id": "cb97e06d",
   "metadata": {},
   "outputs": [
    {
     "name": "stdout",
     "output_type": "stream",
     "text": [
      "01\n",
      "10\n"
     ]
    }
   ],
   "source": [
    "a = [1, 10]\n",
    "for num in a:\n",
    "    print (str(num).rjust(2, '0'))"
   ]
  },
  {
   "cell_type": "code",
   "execution_count": 29,
   "id": "d979c188",
   "metadata": {},
   "outputs": [
    {
     "name": "stdout",
     "output_type": "stream",
     "text": [
      "01\n"
     ]
    }
   ],
   "source": [
    "print (\"%02d\" % (1,))"
   ]
  },
  {
   "cell_type": "markdown",
   "id": "073f87a3",
   "metadata": {},
   "source": [
    "11. Crie uma variável chamada bônus (sem acento mesmo) que possui valor 50000. Digamos que esse é o registro do bônus dos trabalhadores da sua firma. A inflação no ano foi de 11%. Depois de criar a variável bônus em uma célula, altere seu valor na célula seguinte para que acompanhe a inflação. I.e., ajuste o valor da variável para que ele seja 11% acima de 50000 (1,11 x 50000)."
   ]
  },
  {
   "cell_type": "code",
   "execution_count": 33,
   "id": "612e5557",
   "metadata": {},
   "outputs": [],
   "source": [
    "bonus = 50000"
   ]
  },
  {
   "cell_type": "code",
   "execution_count": 34,
   "id": "f690c993",
   "metadata": {},
   "outputs": [
    {
     "name": "stdout",
     "output_type": "stream",
     "text": [
      "55000.00000000001\n"
     ]
    }
   ],
   "source": [
    "bonusinfla = bonus * (1.1)\n",
    "print(bonusinfla)"
   ]
  },
  {
   "cell_type": "markdown",
   "id": "94f6a0e2",
   "metadata": {},
   "source": [
    "## PARTE 3: Questões éticas"
   ]
  },
  {
   "cell_type": "markdown",
   "id": "501e8b9f",
   "metadata": {},
   "source": [
    "12. Cite alguns problemas que a não-proteção dos dados pode trazer para as pessoas."
   ]
  },
  {
   "cell_type": "markdown",
   "id": "1e3d10e3",
   "metadata": {},
   "source": [
    "A não-proteção, assim como a exposição do dados sem consentimento, pode expor um individuo a diversas situações, desde o uso de suas informações em serviços sem autorização, podendo ter os serviços que acessa enviesados, temos como principal exemplos o caso das farmácias que tem acesso a dados de saúde de clientes, e quando compartilhados com planos de saúde geram serviços mais caros para pessoas mais vuneráveis."
   ]
  },
  {
   "cell_type": "markdown",
   "id": "4780eb6f",
   "metadata": {},
   "source": [
    "13. Como o Machine Learning pode piorar a situação das pessoas?"
   ]
  },
  {
   "cell_type": "markdown",
   "id": "30c3b9ef",
   "metadata": {},
   "source": [
    "Para aplicação de machine learning utiliza-se dados reais, tendo como base isto, quando não se leva em consideração o contexto social em que aqueles dados estão imersos, e não se considera esse aspecto na interpretação dos resultados, a tecnologia tende a perpetuar comportamentos nocivos a grupos minoritários, como pode ser vistos em exemplos como o do racismo presente em sistemas de reconhecimento facial ou no caso de machismo presente no caso de análise de curriculos da amazon."
   ]
  },
  {
   "cell_type": "markdown",
   "id": "7c4ad858",
   "metadata": {},
   "source": [
    "14. Cite um exemplo de risco do mau uso de Machine Learning na sua área de atuação ou formação."
   ]
  },
  {
   "cell_type": "markdown",
   "id": "0dcd6875",
   "metadata": {},
   "source": [
    "Atualmente na área em que atuo, planejamento urbano, tem-se buscado a todo custo encontrar uma forma de alterar a forma de cálculo de uma autorga de alteração de uso de imóvel, que atualmente é feito mediante avaliação imobiliária, por uma maneira que seja menos dispendiosa e mais rapida, entretanto não se leva em consideração que não há histórico de outorgas para todas as regiões as quais querem aplicar a mudança."
   ]
  },
  {
   "cell_type": "markdown",
   "id": "42a41100",
   "metadata": {},
   "source": [
    "15. Que tipos de problemas o reconhecimento facial vem causando a certas minorias?"
   ]
  },
  {
   "cell_type": "markdown",
   "id": "8ee49ad3",
   "metadata": {},
   "source": [
    "O reconhecimento facial vem apresentando erros em relação à população negra, seja considerando-as como perigosas, ou ainda não reconhecendo seus rostos; ou seja esta população tem sofrido com o enviesamento da tecnologia."
   ]
  }
 ],
 "metadata": {
  "kernelspec": {
   "display_name": "Python 3 (ipykernel)",
   "language": "python",
   "name": "python3"
  },
  "language_info": {
   "codemirror_mode": {
    "name": "ipython",
    "version": 3
   },
   "file_extension": ".py",
   "mimetype": "text/x-python",
   "name": "python",
   "nbconvert_exporter": "python",
   "pygments_lexer": "ipython3",
   "version": "3.9.7"
  }
 },
 "nbformat": 4,
 "nbformat_minor": 5
}
